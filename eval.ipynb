{
 "cells": [
  {
   "cell_type": "code",
   "execution_count": 1,
   "id": "0bc707d6",
   "metadata": {},
   "outputs": [],
   "source": [
    "%load_ext autoreload\n",
    "%autoreload 2"
   ]
  },
  {
   "cell_type": "code",
   "execution_count": 2,
   "id": "bd70ffcd",
   "metadata": {},
   "outputs": [],
   "source": [
    "import glob\n",
    "from sys import exit\n",
    "import os\n",
    "import numpy as np\n",
    "import pandas as pd\n",
    "import matplotlib.pyplot as plt\n",
    "import seaborn as sns\n",
    "from tqdm import tqdm\n",
    "from inference.eval_ import evaluate_all_sets, get_distance"
   ]
  },
  {
   "cell_type": "code",
   "execution_count": 3,
   "id": "7214f0eb",
   "metadata": {},
   "outputs": [],
   "source": [
    "### load embeds ~90GB\n",
    "embeds = np.load('/home/wes/Data/embeds/wf4m_r100_af_embeds.npy')"
   ]
  },
  {
   "cell_type": "code",
   "execution_count": 56,
   "id": "48fc14d8",
   "metadata": {},
   "outputs": [],
   "source": [
    "sets = glob.glob('validation_sets/race_gender/*/*.list')\n",
    "# sets = glob.glob('validation_sets/iqa_sets/*/*.list')\n",
    "sets.sort(key=lambda x: os.path.basename(os.path.dirname(x)), reverse=False)\n",
    "sets=sets[:1]"
   ]
  },
  {
   "cell_type": "code",
   "execution_count": 57,
   "id": "7e027214",
   "metadata": {},
   "outputs": [
    {
     "data": {
      "text/plain": [
       "1"
      ]
     },
     "execution_count": 57,
     "metadata": {},
     "output_type": "execute_result"
    }
   ],
   "source": [
    "len(sets)\n",
    "# sets"
   ]
  },
  {
   "cell_type": "code",
   "execution_count": 105,
   "id": "6051418a",
   "metadata": {},
   "outputs": [
    {
     "ename": "NameError",
     "evalue": "name 'test_embeds' is not defined",
     "output_type": "error",
     "traceback": [
      "\u001b[0;31m---------------------------------------------------------------------------\u001b[0m",
      "\u001b[0;31mNameError\u001b[0m                                 Traceback (most recent call last)",
      "\u001b[0;32m/tmp/ipykernel_35152/2676691477.py\u001b[0m in \u001b[0;36m<module>\u001b[0;34m\u001b[0m\n\u001b[0;32m----> 1\u001b[0;31m \u001b[0;32mdel\u001b[0m \u001b[0mtest_embeds\u001b[0m\u001b[0;34m\u001b[0m\u001b[0;34m\u001b[0m\u001b[0m\n\u001b[0m",
      "\u001b[0;31mNameError\u001b[0m: name 'test_embeds' is not defined"
     ]
    }
   ],
   "source": [
    "del test_embeds"
   ]
  },
  {
   "cell_type": "code",
   "execution_count": 58,
   "id": "e68f6dc1",
   "metadata": {},
   "outputs": [
    {
     "data": {
      "text/plain": [
       "(20000, 512)"
      ]
     },
     "execution_count": 58,
     "metadata": {},
     "output_type": "execute_result"
    }
   ],
   "source": [
    "test_idxs = []\n",
    "test_pairs = []\n",
    "datasize=20000\n",
    "for s in sets:\n",
    "    s = s.replace('.list', '.npy')\n",
    "    x = np.load(s)\n",
    "    assert x.shape[0] % 3 == 0\n",
    "    assert x.shape[0] / 3 == datasize / 2\n",
    "    pairs = list(x[int(datasize):])\n",
    "    test_pairs += pairs\n",
    "    test_idxs.append(x[:int(datasize)])\n",
    "    \n",
    "len(test_idxs[0])\n",
    "len(test_pairs)\n",
    "\n",
    "\n",
    "test_idxs = np.concatenate(test_idxs)\n",
    "test_idxs.shape\n",
    "test_embeds = embeds[test_idxs]\n",
    "test_embeds.shape"
   ]
  },
  {
   "cell_type": "code",
   "execution_count": 18,
   "id": "6cef5405",
   "metadata": {},
   "outputs": [
    {
     "name": "stdout",
     "output_type": "stream",
     "text": [
      "black_female                   AVG tar@far 0.990420+/-0.00263 acc 0.996510+/-0.00076\n",
      "black_male                     AVG tar@far 0.995020+/-0.00170 acc 0.997980+/-0.00031\n",
      "east_asian_female              AVG tar@far 0.982260+/-0.00584 acc 0.995070+/-0.00069\n",
      "east_asian_male                AVG tar@far 0.998160+/-0.00116 acc 0.998860+/-0.00045\n",
      "indian_female                  AVG tar@far 0.989440+/-0.00303 acc 0.996350+/-0.00068\n",
      "indian_male                    AVG tar@far 0.997580+/-0.00141 acc 0.998630+/-0.00057\n",
      "latino_hispanic_female         AVG tar@far 0.992720+/-0.00307 acc 0.996920+/-0.00052\n",
      "latino_hispanic_male           AVG tar@far 0.998480+/-0.00066 acc 0.998980+/-0.00031\n",
      "middle_eastern_female          AVG tar@far 0.983540+/-0.00433 acc 0.995160+/-0.00056\n",
      "middle_eastern_male            AVG tar@far 0.996780+/-0.00106 acc 0.998220+/-0.00042\n",
      "southeast_asian_female         AVG tar@far 0.985140+/-0.00336 acc 0.994760+/-0.00052\n",
      "southeast_asian_male           AVG tar@far 0.996880+/-0.00100 acc 0.998440+/-0.00032\n",
      "white_female                   AVG tar@far 0.998380+/-0.00045 acc 0.998940+/-0.00029\n",
      "white_male                     AVG tar@far 0.999720+/-0.00018  acc 0.999750+/-0.00009\n"
     ]
    }
   ],
   "source": [
    "x = evaluate_all_sets(test_embeds, test_pairs, sets, num_sets=10, data_size=20000,\n",
    "                 save_name='test')"
   ]
  },
  {
   "cell_type": "code",
   "execution_count": 44,
   "id": "c6f73c21",
   "metadata": {},
   "outputs": [
    {
     "name": "stdout",
     "output_type": "stream",
     "text": [
      "tar@far 0.99960 acc 0.99980\n",
      "tar@far 1.00000 acc 0.99990\n",
      "tar@far 0.99980 acc 0.99970\n",
      "tar@far 0.98740 acc 0.99650\n",
      "tar@far 0.99060 acc 0.99690\n",
      "tar@far 0.98920 acc 0.99620\n",
      "6\n",
      "(10000,)\n",
      "names..\n",
      "stack..\n",
      "(60000,) (60000,) (60000,)\n",
      "df..\n"
     ]
    },
    {
     "ename": "NameError",
     "evalue": "name 'curr' is not defined",
     "output_type": "error",
     "traceback": [
      "\u001b[0;31m---------------------------------------------------------------------------\u001b[0m",
      "\u001b[0;31mNameError\u001b[0m                                 Traceback (most recent call last)",
      "\u001b[0;32m/tmp/ipykernel_43946/2833937270.py\u001b[0m in \u001b[0;36m<module>\u001b[0;34m\u001b[0m\n\u001b[1;32m     39\u001b[0m \u001b[0mdf\u001b[0m \u001b[0;34m=\u001b[0m \u001b[0mpd\u001b[0m\u001b[0;34m.\u001b[0m\u001b[0mDataFrame\u001b[0m\u001b[0;34m(\u001b[0m\u001b[0marr\u001b[0m\u001b[0;34m,\u001b[0m \u001b[0mcolumns\u001b[0m \u001b[0;34m=\u001b[0m \u001b[0;34m[\u001b[0m\u001b[0;34m'Similarity'\u001b[0m\u001b[0;34m,\u001b[0m\u001b[0;34m'Match'\u001b[0m\u001b[0;34m,\u001b[0m \u001b[0;34m'Attributes'\u001b[0m\u001b[0;34m]\u001b[0m\u001b[0;34m)\u001b[0m\u001b[0;34m\u001b[0m\u001b[0;34m\u001b[0m\u001b[0m\n\u001b[1;32m     40\u001b[0m \u001b[0;31m# df = pd.DataFrame(arr, columns = ['Similarity','Match'])\u001b[0m\u001b[0;34m\u001b[0m\u001b[0;34m\u001b[0m\u001b[0;34m\u001b[0m\u001b[0m\n\u001b[0;32m---> 41\u001b[0;31m \u001b[0;32mdel\u001b[0m \u001b[0marr\u001b[0m\u001b[0;34m,\u001b[0m \u001b[0mnames\u001b[0m\u001b[0;34m,\u001b[0m \u001b[0mpairs_list\u001b[0m\u001b[0;34m,\u001b[0m \u001b[0mcurr\u001b[0m\u001b[0;34m\u001b[0m\u001b[0;34m\u001b[0m\u001b[0m\n\u001b[0m",
      "\u001b[0;31mNameError\u001b[0m: name 'curr' is not defined"
     ]
    }
   ],
   "source": [
    "li = [('race_gender/white_male', 'Caucasian Male'), ('race_gender/black_female', 'Black Female')]\n",
    "results = []\n",
    "datasize=20000\n",
    "\n",
    "number = 3\n",
    "total = number*10000\n",
    "\n",
    "mask = np.ones(total, dtype=bool)\n",
    "pairs_list = np.ones(total*len(li))\n",
    "for i in range(number):\n",
    "    mask[5000+(10000*i):10000*(i+1)] = False\n",
    "    pairs_list[5000+(10000*i):10000*(i+1)] = 0\n",
    "\n",
    "names = []\n",
    "atts = []\n",
    "for idx_, (l, name) in enumerate(li):\n",
    "    names += [name]*total\n",
    "    d_sets = glob.glob(os.path.join('validation_sets', l, '*.npy'))[:number]\n",
    "    for r in d_sets:\n",
    "        x = np.load(r)\n",
    "        d_pairs = list(x[int(datasize):])\n",
    "        idxs = x[:int(datasize)] \n",
    "        d_embeds = embeds[idxs]\n",
    "        results.append(get_distance(d_embeds, d_pairs))\n",
    "#     results.append(np.concatenate(curr))\n",
    "    atts.append(np.ones(total)*idx_)\n",
    "    \n",
    "print(len(results))\n",
    "print(results[0].shape)\n",
    "# exit()\n",
    "print('names..')\n",
    "names = np.array(names)\n",
    "atts = np.concatenate(atts)\n",
    "results = np.concatenate(results)\n",
    "print('stack..')\n",
    "print(results.shape, pairs_list.shape, names.shape)\n",
    "arr = np.stack((results, pairs_list, atts)).T\n",
    "print('df..')\n",
    "df = pd.DataFrame(arr, columns = ['Similarity','Match', 'Attributes'])\n",
    "# df = pd.DataFrame(arr, columns = ['Similarity','Match'])\n",
    "del arr, names, pairs_list, curr\n"
   ]
  },
  {
   "cell_type": "code",
   "execution_count": 53,
   "id": "b17e0c28",
   "metadata": {},
   "outputs": [
    {
     "name": "stdout",
     "output_type": "stream",
     "text": [
      "0.49204057\n",
      "0.49112463\n"
     ]
    },
    {
     "data": {
      "image/png": "[encoded data removed]",
      "text/plain": [
       "<Figure size 288x288 with 2 Axes>"
      ]
     },
     "metadata": {
      "needs_background": "light"
     },
     "output_type": "display_data"
    }
   ],
   "source": [
    "x = results\n",
    "for i in range(len(li)):\n",
    "    diff = np.abs(np.mean(x[10000*i:5000+10000*(i+1)]) - np.mean(x[5000+(10000*i):10000*(i+1)]))\n",
    "    print(diff)\n",
    "sns.displot(data=df, x='Similarity', hue='Match', col='Attributes', kind='kde',\n",
    "            fill=True, palette='rocket', col_wrap=1)\n",
    "fig = plt.gcf()\n",
    "fig.set_size_inches(4,4)\n",
    "plt.text(.7, 2, f'mean {diff:.2f}', fontsize=14)\n",
    "plt.tight_layout(h_pad=0)\n",
    "plt.show()"
   ]
  },
  {
   "cell_type": "code",
   "execution_count": 28,
   "id": "57e6c5d8",
   "metadata": {},
   "outputs": [
    {
     "data": {
      "text/html": [
       "<div>\n",
       "<style scoped>\n",
       "    .dataframe tbody tr th:only-of-type {\n",
       "        vertical-align: middle;\n",
       "    }\n",
       "\n",
       "    .dataframe tbody tr th {\n",
       "        vertical-align: top;\n",
       "    }\n",
       "\n",
       "    .dataframe thead th {\n",
       "        text-align: right;\n",
       "    }\n",
       "</style>\n",
       "<table border=\"1\" class=\"dataframe\">\n",
       "  <thead>\n",
       "    <tr style=\"text-align: right;\">\n",
       "      <th></th>\n",
       "      <th>Similarity</th>\n",
       "      <th>Match</th>\n",
       "      <th>Attributes</th>\n",
       "    </tr>\n",
       "  </thead>\n",
       "  <tbody>\n",
       "    <tr>\n",
       "      <th>0</th>\n",
       "      <td>0.80336875</td>\n",
       "      <td>1.0</td>\n",
       "      <td>Caucasian Male</td>\n",
       "    </tr>\n",
       "    <tr>\n",
       "      <th>1</th>\n",
       "      <td>0.9542838</td>\n",
       "      <td>1.0</td>\n",
       "      <td>Caucasian Male</td>\n",
       "    </tr>\n",
       "    <tr>\n",
       "      <th>2</th>\n",
       "      <td>0.65788645</td>\n",
       "      <td>1.0</td>\n",
       "      <td>Caucasian Male</td>\n",
       "    </tr>\n",
       "    <tr>\n",
       "      <th>3</th>\n",
       "      <td>0.78616375</td>\n",
       "      <td>1.0</td>\n",
       "      <td>Caucasian Male</td>\n",
       "    </tr>\n",
       "    <tr>\n",
       "      <th>4</th>\n",
       "      <td>0.7616137</td>\n",
       "      <td>1.0</td>\n",
       "      <td>Caucasian Male</td>\n",
       "    </tr>\n",
       "    <tr>\n",
       "      <th>...</th>\n",
       "      <td>...</td>\n",
       "      <td>...</td>\n",
       "      <td>...</td>\n",
       "    </tr>\n",
       "    <tr>\n",
       "      <th>9995</th>\n",
       "      <td>-0.078470916</td>\n",
       "      <td>0.0</td>\n",
       "      <td>Caucasian Male</td>\n",
       "    </tr>\n",
       "    <tr>\n",
       "      <th>9996</th>\n",
       "      <td>0.18338531</td>\n",
       "      <td>0.0</td>\n",
       "      <td>Caucasian Male</td>\n",
       "    </tr>\n",
       "    <tr>\n",
       "      <th>9997</th>\n",
       "      <td>0.060416244</td>\n",
       "      <td>0.0</td>\n",
       "      <td>Caucasian Male</td>\n",
       "    </tr>\n",
       "    <tr>\n",
       "      <th>9998</th>\n",
       "      <td>0.23813118</td>\n",
       "      <td>0.0</td>\n",
       "      <td>Caucasian Male</td>\n",
       "    </tr>\n",
       "    <tr>\n",
       "      <th>9999</th>\n",
       "      <td>0.0513086</td>\n",
       "      <td>0.0</td>\n",
       "      <td>Caucasian Male</td>\n",
       "    </tr>\n",
       "  </tbody>\n",
       "</table>\n",
       "<p>10000 rows × 3 columns</p>\n",
       "</div>"
      ],
      "text/plain": [
       "        Similarity Match      Attributes\n",
       "0       0.80336875   1.0  Caucasian Male\n",
       "1        0.9542838   1.0  Caucasian Male\n",
       "2       0.65788645   1.0  Caucasian Male\n",
       "3       0.78616375   1.0  Caucasian Male\n",
       "4        0.7616137   1.0  Caucasian Male\n",
       "...            ...   ...             ...\n",
       "9995  -0.078470916   0.0  Caucasian Male\n",
       "9996    0.18338531   0.0  Caucasian Male\n",
       "9997   0.060416244   0.0  Caucasian Male\n",
       "9998    0.23813118   0.0  Caucasian Male\n",
       "9999     0.0513086   0.0  Caucasian Male\n",
       "\n",
       "[10000 rows x 3 columns]"
      ]
     },
     "execution_count": 28,
     "metadata": {},
     "output_type": "execute_result"
    }
   ],
   "source": [
    "df"
   ]
  },
  {
   "cell_type": "code",
   "execution_count": 93,
   "id": "bdfa2ae3",
   "metadata": {},
   "outputs": [
    {
     "data": {
      "image/png": "[encoded data removed]",
      "text/plain": [
       "<Figure size 432x309.6 with 1 Axes>"
      ]
     },
     "metadata": {
      "needs_background": "light"
     },
     "output_type": "display_data"
    }
   ],
   "source": [
    "# (name, tar, acc, std, norm)\n",
    "re = {}\n",
    "for name,tar,acc,std,norm in x:\n",
    "    name = name.replace('validation_sets/iqa_sets', '').replace('.list','')\n",
    "    name = os.path.basename(os.path.dirname(name))\n",
    "    if name in re.keys():\n",
    "        re[name].append(tar)\n",
    "    else:\n",
    "        re[name] = [tar]\n",
    "        \n",
    "re2 = {}\n",
    "for k,v in re.items():\n",
    "    name = k[:-7]\n",
    "    arr = np.array(v)\n",
    "    q = float(k[-7:-4])\n",
    "    if name in re2.keys():\n",
    "        re2[name].append((q,np.mean(v), np.std(v)))\n",
    "    else:\n",
    "        re2[name] = [(q,np.mean(v), np.std(v))]\n",
    "        \n",
    "\n",
    "    \n",
    "        \n",
    "re2['sdd-fiqa']\n",
    "\n",
    "import matplotlib.pyplot as plt\n",
    "\n",
    "for k, v in re2.items():\n",
    "    x_val = [y[0] for y in v]\n",
    "    y_val = [y[1] for y in v]\n",
    "    err = [y[2] for y in v]\n",
    "    if k in ['sdd-fiqa', 'magface', 'cr-fiqa']:\n",
    "        m = '-'\n",
    "    else:\n",
    "        m = '--'\n",
    "    plt.errorbar(x_val, y_val, err, linestyle=m)\n",
    "\n",
    "    \n",
    "keys = ['Brisque', 'CR-FIQA', 'MagFace', 'Nima', 'paq2piq', 'SDD-FIQA']\n",
    "plt.legend(keys, fontsize=12)\n",
    "\n",
    "plt.xlabel('10% Quartiles', fontsize=14)\n",
    "plt.ylabel('TAR@FAR=0.001', fontsize=14)\n",
    "fig = plt.gcf()\n",
    "fig.set_size_inches(6,4.3)\n",
    "# plt.grid()\n",
    "plt.show()\n",
    "        "
   ]
  }
 ],
 "metadata": {
  "kernelspec": {
   "display_name": "Python 3 (ipykernel)",
   "language": "python",
   "name": "python3"
  },
  "language_info": {
   "codemirror_mode": {
    "name": "ipython",
    "version": 3
   },
   "file_extension": ".py",
   "mimetype": "text/x-python",
   "name": "python",
   "nbconvert_exporter": "python",
   "pygments_lexer": "ipython3",
   "version": "3.7.11"
  }
 },
 "nbformat": 4,
 "nbformat_minor": 5
}
